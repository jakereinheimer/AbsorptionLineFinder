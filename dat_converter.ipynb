{
 "cells": [
  {
   "cell_type": "code",
   "execution_count": 15,
   "id": "832d763b",
   "metadata": {},
   "outputs": [
    {
     "name": "stdout",
     "output_type": "stream",
     "text": [
      "[2.76064  2.14976  1.86231  ... 0.234638 0.238845 0.229878]\n",
      "FITS files saved!\n"
     ]
    }
   ],
   "source": [
    "import numpy as np\n",
    "from astropy.io import fits\n",
    "\n",
    "# Step 1: Load the data from the .dat file\n",
    "data = np.loadtxt('/Users/jakereinheimer/Desktop/Fakhri/data/Secret_data/2149/A/HE2149A_b.dat')  # Replace with your actual filename\n",
    "\n",
    "# Step 2: Split into columns\n",
    "col1 = data[:, 0]\n",
    "col2 = data[:, 1]\n",
    "col3 = data[:, 2]\n",
    "col4 = data[:, 3]\n",
    "\n",
    "print(col4)\n",
    "\n",
    "# Step 3: Write each column to a separate FITS file\n",
    "fits.writeto('/Users/jakereinheimer/Desktop/Fakhri/data/Secret_data/2149/A/HE2149A_b_wav.fits', col2, overwrite=True)\n",
    "fits.writeto('/Users/jakereinheimer/Desktop/Fakhri/data/Secret_data/2149/A/HE2149A_b_flx.fits', col3, overwrite=True)\n",
    "fits.writeto('/Users/jakereinheimer/Desktop/Fakhri/data/Secret_data/2149/A/HE2149A_b_erf.fits', col4, overwrite=True)\n",
    "\n",
    "print(\"FITS files saved!\")\n"
   ]
  },
  {
   "cell_type": "code",
   "execution_count": null,
   "id": "c1d5287d",
   "metadata": {},
   "outputs": [],
   "source": []
  }
 ],
 "metadata": {
  "kernelspec": {
   "display_name": "myvenv",
   "language": "python",
   "name": "python3"
  },
  "language_info": {
   "codemirror_mode": {
    "name": "ipython",
    "version": 3
   },
   "file_extension": ".py",
   "mimetype": "text/x-python",
   "name": "python",
   "nbconvert_exporter": "python",
   "pygments_lexer": "ipython3",
   "version": "3.12.9"
  }
 },
 "nbformat": 4,
 "nbformat_minor": 5
}
